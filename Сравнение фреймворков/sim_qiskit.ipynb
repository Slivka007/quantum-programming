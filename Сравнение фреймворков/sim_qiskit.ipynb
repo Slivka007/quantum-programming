{
  "cells": [
    {
      "cell_type": "code",
      "source": [
        "!pip install qiskit --quiet --no-warn-conflicts\n",
        "!pip install matplotlib --quiet --no-warn-conflicts\n",
        "!pip install pylatexenc --quiet --no-warn-conflicts"
      ],
      "metadata": {
        "colab": {
          "base_uri": "https://localhost:8080/"
        },
        "id": "AJJdn466srVQ",
        "outputId": "6fe11bc4-7466-4e18-e691-b6abf7d47f63"
      },
      "execution_count": null,
      "outputs": [
        {
          "output_type": "stream",
          "name": "stdout",
          "text": [
            "  Installing build dependencies ... \u001b[?25l\u001b[?25hdone\n",
            "  Getting requirements to build wheel ... \u001b[?25l\u001b[?25hdone\n",
            "  Installing backend dependencies ... \u001b[?25l\u001b[?25hdone\n",
            "  Preparing metadata (pyproject.toml) ... \u001b[?25l\u001b[?25hdone\n",
            "\u001b[2K     \u001b[90m━━━━━━━━━━━━━━━━━━━━━━━━━━━━━━━━━━━━━━━━\u001b[0m \u001b[32m12.8/12.8 MB\u001b[0m \u001b[31m72.3 MB/s\u001b[0m eta \u001b[36m0:00:00\u001b[0m\n",
            "\u001b[2K     \u001b[90m━━━━━━━━━━━━━━━━━━━━━━━━━━━━━━━━━━━━━━\u001b[0m \u001b[32m241.5/241.5 kB\u001b[0m \u001b[31m22.2 MB/s\u001b[0m eta \u001b[36m0:00:00\u001b[0m\n",
            "\u001b[2K     \u001b[90m━━━━━━━━━━━━━━━━━━━━━━━━━━━━━━━━━━━━━━━━\u001b[0m \u001b[32m5.9/5.9 MB\u001b[0m \u001b[31m80.1 MB/s\u001b[0m eta \u001b[36m0:00:00\u001b[0m\n",
            "\u001b[2K     \u001b[90m━━━━━━━━━━━━━━━━━━━━━━━━━━━━━━━━━━━━━━\u001b[0m \u001b[32m129.9/129.9 kB\u001b[0m \u001b[31m13.7 MB/s\u001b[0m eta \u001b[36m0:00:00\u001b[0m\n",
            "\u001b[2K     \u001b[90m━━━━━━━━━━━━━━━━━━━━━━━━━━━━━━━━━━━━━━━━\u001b[0m \u001b[32m1.9/1.9 MB\u001b[0m \u001b[31m50.8 MB/s\u001b[0m eta \u001b[36m0:00:00\u001b[0m\n",
            "\u001b[2K     \u001b[90m━━━━━━━━━━━━━━━━━━━━━━━━━━━━━━━━━━━━━━━\u001b[0m \u001b[32m110.5/110.5 kB\u001b[0m \u001b[31m9.7 MB/s\u001b[0m eta \u001b[36m0:00:00\u001b[0m\n",
            "\u001b[2K     \u001b[90m━━━━━━━━━━━━━━━━━━━━━━━━━━━━━━━━━━━━━━━━\u001b[0m \u001b[32m37.5/37.5 MB\u001b[0m \u001b[31m13.4 MB/s\u001b[0m eta \u001b[36m0:00:00\u001b[0m\n",
            "\u001b[2K     \u001b[90m━━━━━━━━━━━━━━━━━━━━━━━━━━━━━━━━━━━━━━━━\u001b[0m \u001b[32m49.6/49.6 kB\u001b[0m \u001b[31m4.9 MB/s\u001b[0m eta \u001b[36m0:00:00\u001b[0m\n",
            "\u001b[2K     \u001b[90m━━━━━━━━━━━━━━━━━━━━━━━━━━━━━━━━━━━━━━━━\u001b[0m \u001b[32m49.6/49.6 kB\u001b[0m \u001b[31m4.0 MB/s\u001b[0m eta \u001b[36m0:00:00\u001b[0m\n",
            "\u001b[2K     \u001b[90m━━━━━━━━━━━━━━━━━━━━━━━━━━━━━━━━━━━━━━\u001b[0m \u001b[32m112.7/112.7 kB\u001b[0m \u001b[31m11.0 MB/s\u001b[0m eta \u001b[36m0:00:00\u001b[0m\n",
            "\u001b[?25h  Building wheel for qiskit (pyproject.toml) ... \u001b[?25l\u001b[?25hdone\n",
            "\u001b[2K     \u001b[90m━━━━━━━━━━━━━━━━━━━━━━━━━━━━━━━━━━━━━━━\u001b[0m \u001b[32m162.6/162.6 kB\u001b[0m \u001b[31m6.5 MB/s\u001b[0m eta \u001b[36m0:00:00\u001b[0m\n",
            "\u001b[?25h  Preparing metadata (setup.py) ... \u001b[?25l\u001b[?25hdone\n",
            "  Building wheel for pylatexenc (setup.py) ... \u001b[?25l\u001b[?25hdone\n"
          ]
        }
      ]
    },
    {
      "cell_type": "code",
      "execution_count": 15,
      "metadata": {
        "id": "NkjUjuqvLv-A"
      },
      "outputs": [],
      "source": [
        "import qiskit as qk\n",
        "import numpy as np\n",
        "import time \n",
        "import matplotlib as mpl"
      ]
    },
    {
      "cell_type": "code",
      "source": [
        "def dj_oracle(case, n):\n",
        "    # We need to make a QuantumCircuit object to return\n",
        "    # This circuit has n+1 qubits: the size of the input,\n",
        "    # plus one output qubit\n",
        "    oracle_qc = qk.QuantumCircuit(n+1)\n",
        "    \n",
        "    # First, let's deal with the case in which oracle is balanced\n",
        "    if case == \"balanced\":\n",
        "        # First generate a random number that tells us which CNOTs to\n",
        "        # wrap in X-gates:\n",
        "        b = np.random.randint(1,2**n)\n",
        "        # Next, format 'b' as a binary string of length 'n', padded with zeros:\n",
        "        b_str = format(b, '0'+str(n)+'b')\n",
        "        # Next, we place the first X-gates. Each digit in our binary string \n",
        "        # corresponds to a qubit, if the digit is 0, we do nothing, if it's 1\n",
        "        # we apply an X-gate to that qubit:\n",
        "        for qubit in range(len(b_str)):\n",
        "            if b_str[qubit] == '1':\n",
        "                oracle_qc.x(qubit)\n",
        "        # Do the controlled-NOT gates for each qubit, using the output qubit \n",
        "        # as the target:\n",
        "        for qubit in range(n):\n",
        "            oracle_qc.cx(qubit, n)\n",
        "        # Next, place the final X-gates\n",
        "        for qubit in range(len(b_str)):\n",
        "            if b_str[qubit] == '1':\n",
        "                oracle_qc.x(qubit)\n",
        "\n",
        "    # Case in which oracle is constant\n",
        "    if case == \"constant\":\n",
        "        # First decide what the fixed output of the oracle will be\n",
        "        # (either always 0 or always 1)\n",
        "        output = np.random.randint(2)\n",
        "        if output == 1:\n",
        "            oracle_qc.x(n)\n",
        "    \n",
        "    oracle_gate = oracle_qc.to_gate()\n",
        "    oracle_gate.name = \"Oracle\" # To show when we display the circuit\n",
        "    return oracle_gate\n",
        "\n",
        "\n",
        "def dj_algorithm(oracle, n):\n",
        "    dj_circuit = qk.QuantumCircuit(n+1, n)\n",
        "    # Set up the output qubit:\n",
        "    dj_circuit.x(n)\n",
        "    dj_circuit.h(n)\n",
        "    # And set up the input register:\n",
        "    for qubit in range(n):\n",
        "        dj_circuit.h(qubit)\n",
        "    # Let's append the oracle gate to our circuit:\n",
        "    dj_circuit.append(oracle, range(n+1))\n",
        "    # Finally, perform the H-gates again and measure:\n",
        "    for qubit in range(n):\n",
        "        dj_circuit.h(qubit)\n",
        "    \n",
        "    for i in range(n):\n",
        "        dj_circuit.measure(i, i)\n",
        "    \n",
        "    return dj_circuit\n",
        "\n",
        "# функция, которая симулирует цепочку алгоритма Дойчв-Йожа 1000 раз и выдаёт время симуляции\n",
        "def simulation(aer_string):\n",
        "  time_sim = np.zeros(1000)\n",
        "  # симулируем цепь 1000 раз\n",
        "  for i in range(1000):\n",
        "    n = 10\n",
        "    oracle_gate = dj_oracle('balanced', n)\n",
        "    dj_circuit = dj_algorithm(oracle_gate, n)\n",
        "\n",
        "    start = time.time()\n",
        "\n",
        "    aer_sim = qk.Aer.get_backend(aer_string)\n",
        "\n",
        "    transpiled_dj_circuit = qk.transpile(dj_circuit, aer_sim)\n",
        "    results = aer_sim.run(transpiled_dj_circuit).result()\n",
        "    answer = results.get_counts()\n",
        "    #qk.visualization.plot_histogram(answer)\n",
        "\n",
        "    end = time.time() - start\n",
        "    #print(end, end = ' ')\n",
        "    time_sim[i] = end\n",
        "  out = \"Время выполнения симуляции \" + aer_string + \": \" + str(np.average(time_sim))\n",
        "  return out\n",
        "  "
      ],
      "metadata": {
        "id": "Be-xGYmg9iEH"
      },
      "execution_count": 106,
      "outputs": []
    },
    {
      "cell_type": "code",
      "source": [
        "n = 10\n",
        "oracle_gate = dj_oracle('balanced', n)\n",
        "dj_circuit = dj_algorithm(oracle_gate, n)\n",
        "dj_circuit.draw('mpl')"
      ],
      "metadata": {
        "colab": {
          "base_uri": "https://localhost:8080/",
          "height": 835
        },
        "id": "LGUJmaB-8Gf5",
        "outputId": "d9743556-3268-44c6-ff89-bb5e79f72188"
      },
      "execution_count": 107,
      "outputs": [
        {
          "output_type": "execute_result",
          "data": {
            "text/plain": [
              "<Figure size 1392.27x1036.78 with 1 Axes>"
            ],
            "image/png": "[encoded data removed]"
          },
          "metadata": {},
          "execution_count": 107
        }
      ]
    },
    {
      "cell_type": "markdown",
      "metadata": {
        "id": "KcpsLYM2Lv-F"
      },
      "source": [
        "QISKIT имеет несколько квантовых симуляторов, доступных в качестве бэкенда: \n",
        "1. local_qasm_simulator\n",
        "2. local_state_vector_simulator\n",
        "3. ibmq_qasm_simulator\n",
        "4. local_unitary_simulator \n",
        "5. local_clifford_simulator. \n",
        "\n",
        "Исследуем каждый симулятор на примере алгоритма Дойча-Йожи. \n"
      ]
    },
    {
      "cell_type": "markdown",
      "source": [
        "#**aer_simulator**\n"
      ],
      "metadata": {
        "id": "jHVSQfPu7fT0"
      }
    },
    {
      "cell_type": "code",
      "source": [
        "simulation('aer_simulator')"
      ],
      "metadata": {
        "colab": {
          "base_uri": "https://localhost:8080/",
          "height": 37
        },
        "id": "ueT0SH7T-EHx",
        "outputId": "eb0f9362-7a4c-4066-c265-b87f1af94a4f"
      },
      "execution_count": 108,
      "outputs": [
        {
          "output_type": "execute_result",
          "data": {
            "text/plain": [
              "'Время выполнения симуляции aer_simulator: 0.02012196445465088'"
            ],
            "application/vnd.google.colaboratory.intrinsic+json": {
              "type": "string"
            }
          },
          "metadata": {},
          "execution_count": 108
        }
      ]
    },
    {
      "cell_type": "markdown",
      "source": [
        "#**aer_simulator_statevector**"
      ],
      "metadata": {
        "id": "AKoxZs4-DEmh"
      }
    },
    {
      "cell_type": "code",
      "source": [
        "simulation('aer_simulator_statevector')"
      ],
      "metadata": {
        "colab": {
          "base_uri": "https://localhost:8080/",
          "height": 37
        },
        "id": "_LdiU9QQDLTJ",
        "outputId": "3a47bdb6-1315-48d4-ee3e-841449f44539"
      },
      "execution_count": 109,
      "outputs": [
        {
          "output_type": "execute_result",
          "data": {
            "text/plain": [
              "'Время выполнения симуляции aer_simulator_statevector: 0.024329427003860475'"
            ],
            "application/vnd.google.colaboratory.intrinsic+json": {
              "type": "string"
            }
          },
          "metadata": {},
          "execution_count": 109
        }
      ]
    },
    {
      "cell_type": "markdown",
      "source": [
        "#**aer_simulator_stabilizer**"
      ],
      "metadata": {
        "id": "ua026dIbJ_dF"
      }
    },
    {
      "cell_type": "code",
      "source": [
        "simulation('aer_simulator_stabilizer')"
      ],
      "metadata": {
        "colab": {
          "base_uri": "https://localhost:8080/",
          "height": 37
        },
        "id": "ptnq-vqbJpLV",
        "outputId": "2c53d5bd-9251-4a3d-c2ea-a1e36fe61e8e"
      },
      "execution_count": 114,
      "outputs": [
        {
          "output_type": "execute_result",
          "data": {
            "text/plain": [
              "'Время выполнения симуляции aer_simulator_stabilizer: 0.018990967035293578'"
            ],
            "application/vnd.google.colaboratory.intrinsic+json": {
              "type": "string"
            }
          },
          "metadata": {},
          "execution_count": 114
        }
      ]
    },
    {
      "cell_type": "markdown",
      "source": [
        "#**aer_simulator_matrix_product_state**"
      ],
      "metadata": {
        "id": "OfydYeHOKKRz"
      }
    },
    {
      "cell_type": "code",
      "source": [
        "simulation('aer_simulator_matrix_product_state')"
      ],
      "metadata": {
        "colab": {
          "base_uri": "https://localhost:8080/",
          "height": 37
        },
        "id": "33zB-d2EKFKk",
        "outputId": "f1f2020c-4f84-471d-8445-0197c04c1903"
      },
      "execution_count": 115,
      "outputs": [
        {
          "output_type": "execute_result",
          "data": {
            "text/plain": [
              "'Время выполнения симуляции aer_simulator_matrix_product_state: 0.029700433969497682'"
            ],
            "application/vnd.google.colaboratory.intrinsic+json": {
              "type": "string"
            }
          },
          "metadata": {},
          "execution_count": 115
        }
      ]
    },
    {
      "cell_type": "markdown",
      "source": [
        "#**aer_simulator_extended_stabilizer**"
      ],
      "metadata": {
        "id": "SADDCSnuKcK6"
      }
    },
    {
      "cell_type": "code",
      "source": [
        "simulation('aer_simulator_extended_stabilizer')"
      ],
      "metadata": {
        "colab": {
          "base_uri": "https://localhost:8080/",
          "height": 37
        },
        "id": "WNW9or_iKeXw",
        "outputId": "c3ead989-cff8-426a-9aaa-5b34da39e712"
      },
      "execution_count": 121,
      "outputs": [
        {
          "output_type": "execute_result",
          "data": {
            "text/plain": [
              "'Время выполнения симуляции aer_simulator_extended_stabilizer: 0.017826930046081543'"
            ],
            "application/vnd.google.colaboratory.intrinsic+json": {
              "type": "string"
            }
          },
          "metadata": {},
          "execution_count": 121
        }
      ]
    },
    {
      "cell_type": "markdown",
      "source": [
        "#**qasm_simulator**"
      ],
      "metadata": {
        "id": "LMpuDBegNKlj"
      }
    },
    {
      "cell_type": "code",
      "source": [
        "simulation('qasm_simulator')"
      ],
      "metadata": {
        "colab": {
          "base_uri": "https://localhost:8080/",
          "height": 37
        },
        "id": "FKntDHURM9jh",
        "outputId": "b9c93406-f51e-4a7f-b7f4-5e3f760d0bd4"
      },
      "execution_count": 122,
      "outputs": [
        {
          "output_type": "execute_result",
          "data": {
            "text/plain": [
              "'Время выполнения симуляции qasm_simulator: 0.01752280282974243'"
            ],
            "application/vnd.google.colaboratory.intrinsic+json": {
              "type": "string"
            }
          },
          "metadata": {},
          "execution_count": 122
        }
      ]
    },
    {
      "cell_type": "markdown",
      "source": [
        "#**statevector_simulator**"
      ],
      "metadata": {
        "id": "q45PMWU9NZKH"
      }
    },
    {
      "cell_type": "code",
      "source": [
        "simulation('statevector_simulator')"
      ],
      "metadata": {
        "colab": {
          "base_uri": "https://localhost:8080/",
          "height": 37
        },
        "id": "CLvQSTo2NUR2",
        "outputId": "d1159613-5c78-4bcb-e5ce-822de9990ed5"
      },
      "execution_count": 123,
      "outputs": [
        {
          "output_type": "execute_result",
          "data": {
            "text/plain": [
              "'Время выполнения симуляции statevector_simulator: 0.014218507766723633'"
            ],
            "application/vnd.google.colaboratory.intrinsic+json": {
              "type": "string"
            }
          },
          "metadata": {},
          "execution_count": 123
        }
      ]
    }
  ],
  "metadata": {
    "language_info": {
      "name": "python"
    },
    "orig_nbformat": 4,
    "colab": {
      "provenance": []
    },
    "kernelspec": {
      "name": "python3",
      "display_name": "Python 3"
    },
    "gpuClass": "standard"
  },
  "nbformat": 4,
  "nbformat_minor": 0
}