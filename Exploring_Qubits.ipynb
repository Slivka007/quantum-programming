{
  "nbformat": 4,
  "nbformat_minor": 0,
  "metadata": {
    "colab": {
      "provenance": [],
      "authorship_tag": "ABX9TyPwMK3XPu7AGG71rpW4uJhH",
      "include_colab_link": true
    },
    "kernelspec": {
      "name": "python3",
      "display_name": "Python 3"
    },
    "language_info": {
      "name": "python"
    }
  },
  "cells": [
    {
      "cell_type": "markdown",
      "metadata": {
        "id": "view-in-github",
        "colab_type": "text"
      },
      "source": [
        "<a href=\"https://colab.research.google.com/github/Slivka007/quantum-programming/blob/main/Exploring_Qubits.ipynb\" target=\"_parent\"><img src=\"https://colab.research.google.com/assets/colab-badge.svg\" alt=\"Open In Colab\"/></a>"
      ]
    },
    {
      "cell_type": "code",
      "execution_count": 16,
      "metadata": {
        "id": "8_1ufSU7poCW"
      },
      "outputs": [],
      "source": [
        "!pip install qiskit --quiet --no-warn-conflicts\n",
        "!pip install matplotlib --quiet --no-warn-conflicts\n",
        "!pip install pylatexenc --quiet --no-warn-conflicts"
      ]
    },
    {
      "cell_type": "code",
      "source": [
        "import matplotlib\n",
        "from qiskit import QuantumCircuit, assemble, Aer, transpile\n",
        "from qiskit.visualization import plot_histogram, plot_bloch_vector\n",
        "from math import sqrt, pi\n",
        "from qiskit.quantum_info.states import statevector\n",
        "from qiskit.result import Result"
      ],
      "metadata": {
        "id": "fMpAQUhlqYpj"
      },
      "execution_count": 17,
      "outputs": []
    },
    {
      "cell_type": "code",
      "source": [
        "qc = QuantumCircuit(1)  # Create a quantum circuit with one qubit\n",
        "initial_state = [0,1]   # Define initial_state as |1>\n",
        "qc.initialize(initial_state, 0) # Apply initialisation operation to the 0th qubit\n",
        "qc.draw(\"mpl\")  # Let's view our circuit"
      ],
      "metadata": {
        "colab": {
          "base_uri": "https://localhost:8080/",
          "height": 95
        },
        "id": "mlSL05Unp1kq",
        "outputId": "fa3f1614-7dd7-4e1c-825f-b3edca4935e8"
      },
      "execution_count": 18,
      "outputs": [
        {
          "output_type": "execute_result",
          "data": {
            "text/plain": [
              "<Figure size 133.526x84.28 with 1 Axes>"
            ],
            "image/png": "[encoded data removed]"
          },
          "metadata": {},
          "execution_count": 18
        }
      ]
    },
    {
      "cell_type": "code",
      "source": [
        "from qiskit import QuantumCircuit, assemble, Aer\n",
        "from qiskit.visualization import plot_histogram, plot_bloch_vector\n",
        "from math import sqrt, pi\n",
        "\n",
        "sim = Aer.get_backend('aer_simulator')  # Tell Qiskit how to simulate our circuit\n",
        "\n",
        "qc = QuantumCircuit(1)  # Create a quantum circuit with one qubit\n",
        "initial_state = [0,1]   # Define initial_state as |1>\n",
        "qc.initialize(initial_state, 0) # Apply initialisation operation to the 0th qubit\n",
        "qc.save_statevector()   # Tell simulator to save statevector\n",
        "qobj = transpile(qc, sim)     # Create a Qobj from the circuit for the simulator to run\n",
        "result = sim.run(qobj).result() \n",
        "out_state = result.get_statevector()\n",
        "print(out_state) # Display the output state vector# Do the simulation and return the result"
      ],
      "metadata": {
        "colab": {
          "base_uri": "https://localhost:8080/"
        },
        "id": "BqD1jVhq-vww",
        "outputId": "0f166ec2-2cc9-4e94-8f1c-975ebe2c620b"
      },
      "execution_count": 19,
      "outputs": [
        {
          "output_type": "stream",
          "name": "stdout",
          "text": [
            "Statevector([0.+0.j, 1.+0.j],\n",
            "            dims=(2,))\n"
          ]
        }
      ]
    },
    {
      "cell_type": "code",
      "source": [
        "qc.measure_all()\n",
        "qc.draw(\"mpl\")"
      ],
      "metadata": {
        "colab": {
          "base_uri": "https://localhost:8080/",
          "height": 140
        },
        "id": "mwda-utRu9yF",
        "outputId": "57318f63-4a4a-4815-a4ca-fe53c4b5a970"
      },
      "execution_count": 20,
      "outputs": [
        {
          "output_type": "execute_result",
          "data": {
            "text/plain": [
              "<Figure size 417.879x144.48 with 1 Axes>"
            ],
            "image/png": "[encoded data removed]"
          },
          "metadata": {},
          "execution_count": 20
        }
      ]
    },
    {
      "cell_type": "code",
      "source": [
        "qobj = transpile(qc, sim)\n",
        "result = sim.run(qobj).result()\n",
        "counts = result.get_counts()\n",
        "plot_histogram(counts)"
      ],
      "metadata": {
        "colab": {
          "base_uri": "https://localhost:8080/",
          "height": 323
        },
        "id": "2V4mQCMXy7YT",
        "outputId": "216a8d49-0889-44a3-9b7d-54df92e25e05"
      },
      "execution_count": 21,
      "outputs": [
        {
          "output_type": "execute_result",
          "data": {
            "text/plain": [
              "<Figure size 504x360 with 1 Axes>"
            ],
            "image/png": "[encoded data removed]"
          },
          "metadata": {},
          "execution_count": 21
        }
      ]
    },
    {
      "cell_type": "code",
      "source": [
        "initial_state = [1/sqrt(2), 1j/sqrt(2)]  # Define state |q_0>\n",
        "qc = QuantumCircuit(1) # Must redefine qc\n",
        "qc.initialize(initial_state, 0) # Initialize the 0th qubit in the state `initial_state`\n",
        "qc.save_statevector() # Save statevector\n",
        "qobj = transpile(qc, sim)\n",
        "state = sim.run(qobj).result().get_statevector() # Execute the circuit\n",
        "print(state)           # Print the result"
      ],
      "metadata": {
        "colab": {
          "base_uri": "https://localhost:8080/"
        },
        "id": "Vs5-Jut302CD",
        "outputId": "e738c5ab-6eb7-457b-93b1-8a63396279f3"
      },
      "execution_count": 23,
      "outputs": [
        {
          "output_type": "stream",
          "name": "stdout",
          "text": [
            "Statevector([0.70710678+0.j        , 0.        +0.70710678j],\n",
            "            dims=(2,))\n"
          ]
        }
      ]
    },
    {
      "cell_type": "code",
      "source": [
        "qobj = transpile(qc, sim)\n",
        "results = sim.run(qobj).result().get_counts()\n",
        "plot_histogram(results)"
      ],
      "metadata": {
        "colab": {
          "base_uri": "https://localhost:8080/",
          "height": 323
        },
        "id": "58P8eRAOB4Oe",
        "outputId": "aa08dd7f-822f-4fc4-fcce-50967ff21b4f"
      },
      "execution_count": 24,
      "outputs": [
        {
          "output_type": "execute_result",
          "data": {
            "text/plain": [
              "<Figure size 504x360 with 1 Axes>"
            ],
            "image/png": "[encoded data removed]"
          },
          "metadata": {},
          "execution_count": 24
        }
      ]
    }
  ]
}